{
 "cells": [
  {
   "cell_type": "code",
   "execution_count": 1,
   "metadata": {},
   "outputs": [],
   "source": [
    "from django.template.loader import render_to_string"
   ]
  },
  {
   "cell_type": "code",
   "execution_count": 3,
   "metadata": {},
   "outputs": [
    {
     "data": {
      "text/plain": [
       "'안녕하세요. 님. 께서는 에 가입하셨습니다.\\n감사드립니다.\\n\\n-AskDjango'"
      ]
     },
     "execution_count": 3,
     "metadata": {},
     "output_type": "execute_result"
    }
   ],
   "source": [
    "render_to_string('accounts/signup_welcome.txt')"
   ]
  },
  {
   "cell_type": "code",
   "execution_count": 6,
   "metadata": {},
   "outputs": [
    {
     "data": {
      "text/plain": [
       "'안녕하세요. 김소현님. 김소현께서는 2019-07-23-AM-08-24에 가입하셨습니다.\\n감사드립니다.\\n\\n-AskDjango'"
      ]
     },
     "execution_count": 6,
     "metadata": {},
     "output_type": "execute_result"
    }
   ],
   "source": [
    "render_to_string('accounts/signup_welcome.txt',{'name':'김소현','when':'2019-07-23-AM-08-24'})"
   ]
  },
  {
   "cell_type": "code",
   "execution_count": 9,
   "metadata": {},
   "outputs": [],
   "source": [
    "from django.urls import reverse"
   ]
  },
  {
   "cell_type": "code",
   "execution_count": 15,
   "metadata": {
    "scrolled": true
   },
   "outputs": [
    {
     "ename": "NoReverseMatch",
     "evalue": "'blog' is not a registered namespace",
     "output_type": "error",
     "traceback": [
      "\u001b[1;31m---------------------------------------------------------------------------\u001b[0m",
      "\u001b[1;31mKeyError\u001b[0m                                  Traceback (most recent call last)",
      "\u001b[1;32mc:\\dev\\venv\\lib\\site-packages\\django\\urls\\base.py\u001b[0m in \u001b[0;36mreverse\u001b[1;34m(viewname, urlconf, args, kwargs, current_app)\u001b[0m\n\u001b[0;32m     74\u001b[0m             \u001b[1;32mtry\u001b[0m\u001b[1;33m:\u001b[0m\u001b[1;33m\u001b[0m\u001b[0m\n\u001b[1;32m---> 75\u001b[1;33m                 \u001b[0mextra\u001b[0m\u001b[1;33m,\u001b[0m \u001b[0mresolver\u001b[0m \u001b[1;33m=\u001b[0m \u001b[0mresolver\u001b[0m\u001b[1;33m.\u001b[0m\u001b[0mnamespace_dict\u001b[0m\u001b[1;33m[\u001b[0m\u001b[0mns\u001b[0m\u001b[1;33m]\u001b[0m\u001b[1;33m\u001b[0m\u001b[0m\n\u001b[0m\u001b[0;32m     76\u001b[0m                 \u001b[0mresolved_path\u001b[0m\u001b[1;33m.\u001b[0m\u001b[0mappend\u001b[0m\u001b[1;33m(\u001b[0m\u001b[0mns\u001b[0m\u001b[1;33m)\u001b[0m\u001b[1;33m\u001b[0m\u001b[0m\n",
      "\u001b[1;31mKeyError\u001b[0m: 'blog'",
      "\nDuring handling of the above exception, another exception occurred:\n",
      "\u001b[1;31mNoReverseMatch\u001b[0m                            Traceback (most recent call last)",
      "\u001b[1;32m<ipython-input-15-15e85110adaf>\u001b[0m in \u001b[0;36m<module>\u001b[1;34m\u001b[0m\n\u001b[1;32m----> 1\u001b[1;33m \u001b[0mreverse\u001b[0m\u001b[1;33m(\u001b[0m\u001b[1;34m'blog:post_list'\u001b[0m\u001b[1;33m)\u001b[0m\u001b[1;33m\u001b[0m\u001b[0m\n\u001b[0m",
      "\u001b[1;32mc:\\dev\\venv\\lib\\site-packages\\django\\urls\\base.py\u001b[0m in \u001b[0;36mreverse\u001b[1;34m(viewname, urlconf, args, kwargs, current_app)\u001b[0m\n\u001b[0;32m     84\u001b[0m                     )\n\u001b[0;32m     85\u001b[0m                 \u001b[1;32melse\u001b[0m\u001b[1;33m:\u001b[0m\u001b[1;33m\u001b[0m\u001b[0m\n\u001b[1;32m---> 86\u001b[1;33m                     \u001b[1;32mraise\u001b[0m \u001b[0mNoReverseMatch\u001b[0m\u001b[1;33m(\u001b[0m\u001b[1;34m\"%s is not a registered namespace\"\u001b[0m \u001b[1;33m%\u001b[0m \u001b[0mkey\u001b[0m\u001b[1;33m)\u001b[0m\u001b[1;33m\u001b[0m\u001b[0m\n\u001b[0m\u001b[0;32m     87\u001b[0m         \u001b[1;32mif\u001b[0m \u001b[0mns_pattern\u001b[0m\u001b[1;33m:\u001b[0m\u001b[1;33m\u001b[0m\u001b[0m\n\u001b[0;32m     88\u001b[0m             \u001b[0mresolver\u001b[0m \u001b[1;33m=\u001b[0m \u001b[0mget_ns_resolver\u001b[0m\u001b[1;33m(\u001b[0m\u001b[0mns_pattern\u001b[0m\u001b[1;33m,\u001b[0m \u001b[0mresolver\u001b[0m\u001b[1;33m,\u001b[0m \u001b[0mtuple\u001b[0m\u001b[1;33m(\u001b[0m\u001b[0mns_converters\u001b[0m\u001b[1;33m.\u001b[0m\u001b[0mitems\u001b[0m\u001b[1;33m(\u001b[0m\u001b[1;33m)\u001b[0m\u001b[1;33m)\u001b[0m\u001b[1;33m)\u001b[0m\u001b[1;33m\u001b[0m\u001b[0m\n",
      "\u001b[1;31mNoReverseMatch\u001b[0m: 'blog' is not a registered namespace"
     ]
    }
   ],
   "source": [
    "reverse('blog:post_list')"
   ]
  },
  {
   "cell_type": "code",
   "execution_count": 16,
   "metadata": {},
   "outputs": [
    {
     "ename": "NoReverseMatch",
     "evalue": "'blog' is not a registered namespace",
     "output_type": "error",
     "traceback": [
      "\u001b[1;31m---------------------------------------------------------------------------\u001b[0m",
      "\u001b[1;31mKeyError\u001b[0m                                  Traceback (most recent call last)",
      "\u001b[1;32mc:\\dev\\venv\\lib\\site-packages\\django\\urls\\base.py\u001b[0m in \u001b[0;36mreverse\u001b[1;34m(viewname, urlconf, args, kwargs, current_app)\u001b[0m\n\u001b[0;32m     74\u001b[0m             \u001b[1;32mtry\u001b[0m\u001b[1;33m:\u001b[0m\u001b[1;33m\u001b[0m\u001b[0m\n\u001b[1;32m---> 75\u001b[1;33m                 \u001b[0mextra\u001b[0m\u001b[1;33m,\u001b[0m \u001b[0mresolver\u001b[0m \u001b[1;33m=\u001b[0m \u001b[0mresolver\u001b[0m\u001b[1;33m.\u001b[0m\u001b[0mnamespace_dict\u001b[0m\u001b[1;33m[\u001b[0m\u001b[0mns\u001b[0m\u001b[1;33m]\u001b[0m\u001b[1;33m\u001b[0m\u001b[0m\n\u001b[0m\u001b[0;32m     76\u001b[0m                 \u001b[0mresolved_path\u001b[0m\u001b[1;33m.\u001b[0m\u001b[0mappend\u001b[0m\u001b[1;33m(\u001b[0m\u001b[0mns\u001b[0m\u001b[1;33m)\u001b[0m\u001b[1;33m\u001b[0m\u001b[0m\n",
      "\u001b[1;31mKeyError\u001b[0m: 'blog'",
      "\nDuring handling of the above exception, another exception occurred:\n",
      "\u001b[1;31mNoReverseMatch\u001b[0m                            Traceback (most recent call last)",
      "\u001b[1;32m<ipython-input-16-b7df070544ce>\u001b[0m in \u001b[0;36m<module>\u001b[1;34m\u001b[0m\n\u001b[1;32m----> 1\u001b[1;33m \u001b[0mreverse\u001b[0m\u001b[1;33m(\u001b[0m\u001b[1;34m'blog:post_detail'\u001b[0m\u001b[1;33m,\u001b[0m\u001b[0margs\u001b[0m\u001b[1;33m=\u001b[0m\u001b[1;33m[\u001b[0m\u001b[1;36m10\u001b[0m\u001b[1;33m]\u001b[0m\u001b[1;33m)\u001b[0m\u001b[1;33m\u001b[0m\u001b[0m\n\u001b[0m",
      "\u001b[1;32mc:\\dev\\venv\\lib\\site-packages\\django\\urls\\base.py\u001b[0m in \u001b[0;36mreverse\u001b[1;34m(viewname, urlconf, args, kwargs, current_app)\u001b[0m\n\u001b[0;32m     84\u001b[0m                     )\n\u001b[0;32m     85\u001b[0m                 \u001b[1;32melse\u001b[0m\u001b[1;33m:\u001b[0m\u001b[1;33m\u001b[0m\u001b[0m\n\u001b[1;32m---> 86\u001b[1;33m                     \u001b[1;32mraise\u001b[0m \u001b[0mNoReverseMatch\u001b[0m\u001b[1;33m(\u001b[0m\u001b[1;34m\"%s is not a registered namespace\"\u001b[0m \u001b[1;33m%\u001b[0m \u001b[0mkey\u001b[0m\u001b[1;33m)\u001b[0m\u001b[1;33m\u001b[0m\u001b[0m\n\u001b[0m\u001b[0;32m     87\u001b[0m         \u001b[1;32mif\u001b[0m \u001b[0mns_pattern\u001b[0m\u001b[1;33m:\u001b[0m\u001b[1;33m\u001b[0m\u001b[0m\n\u001b[0;32m     88\u001b[0m             \u001b[0mresolver\u001b[0m \u001b[1;33m=\u001b[0m \u001b[0mget_ns_resolver\u001b[0m\u001b[1;33m(\u001b[0m\u001b[0mns_pattern\u001b[0m\u001b[1;33m,\u001b[0m \u001b[0mresolver\u001b[0m\u001b[1;33m,\u001b[0m \u001b[0mtuple\u001b[0m\u001b[1;33m(\u001b[0m\u001b[0mns_converters\u001b[0m\u001b[1;33m.\u001b[0m\u001b[0mitems\u001b[0m\u001b[1;33m(\u001b[0m\u001b[1;33m)\u001b[0m\u001b[1;33m)\u001b[0m\u001b[1;33m)\u001b[0m\u001b[1;33m\u001b[0m\u001b[0m\n",
      "\u001b[1;31mNoReverseMatch\u001b[0m: 'blog' is not a registered namespace"
     ]
    }
   ],
   "source": [
    "reverse('blog:post_detail',args=[10])"
   ]
  },
  {
   "cell_type": "code",
   "execution_count": null,
   "metadata": {},
   "outputs": [],
   "source": []
  }
 ],
 "metadata": {
  "kernelspec": {
   "display_name": "Django Shell-Plus",
   "language": "python",
   "name": "django_extensions"
  },
  "language_info": {
   "codemirror_mode": {
    "name": "ipython",
    "version": 3
   },
   "file_extension": ".py",
   "mimetype": "text/x-python",
   "name": "python",
   "nbconvert_exporter": "python",
   "pygments_lexer": "ipython3",
   "version": "3.5.2"
  }
 },
 "nbformat": 4,
 "nbformat_minor": 2
}
